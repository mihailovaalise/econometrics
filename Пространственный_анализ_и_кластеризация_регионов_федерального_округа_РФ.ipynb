{
  "nbformat": 4,
  "nbformat_minor": 0,
  "metadata": {
    "colab": {
      "provenance": []
    },
    "kernelspec": {
      "name": "python3",
      "display_name": "Python 3"
    },
    "language_info": {
      "name": "python"
    }
  },
  "cells": [
    {
      "cell_type": "code",
      "source": [
        "import pandas as pd\n",
        "import numpy as np\n",
        "import matplotlib.pyplot as plt\n",
        "import seaborn as sns"
      ],
      "metadata": {
        "id": "31NwoqQmF0nN"
      },
      "execution_count": null,
      "outputs": []
    },
    {
      "cell_type": "markdown",
      "source": [
        "Составлена матрица растояний между административными центрами областей ЮФО по дорогам."
      ],
      "metadata": {
        "id": "7hOWg5ZuF9cP"
      }
    },
    {
      "cell_type": "code",
      "source": [
        "matrix = pd.read_excel('/content/юфо.xlsx', sheet_name='расстояния', index_col=0)\n",
        "matrix"
      ],
      "metadata": {
        "colab": {
          "base_uri": "https://localhost:8080/",
          "height": 335
        },
        "id": "seiX9abRFJ2e",
        "outputId": "f2f85433-1683-4893-c402-55c8896b3dfc"
      },
      "execution_count": null,
      "outputs": [
        {
          "output_type": "execute_result",
          "data": {
            "text/plain": [
              "                                          Республика Адыгея  \\\n",
              " Республика Адыгея                                        0   \n",
              "Республика Калмыкия                                     480   \n",
              "Республика Крым                                         570   \n",
              "Краснодарский край                                      132   \n",
              "Астраханская область                                    800   \n",
              "Волгоградская область                                   720   \n",
              "Ростовская область                                      330   \n",
              "Город федерального значения Севастополь                 660   \n",
              "\n",
              "                                         Республика Калмыкия  Республика Крым  \\\n",
              " Республика Адыгея                                       480              570   \n",
              "Республика Калмыкия                                        0              970   \n",
              "Республика Крым                                          970                0   \n",
              "Краснодарский край                                       510              460   \n",
              "Астраханская область                                     310             1290   \n",
              "Волгоградская область                                    293             1180   \n",
              "Ростовская область                                       450              710   \n",
              "Город федерального значения Севастополь                 1060              970   \n",
              "\n",
              "                                         Краснодарский край  \\\n",
              " Республика Адыгея                                      132   \n",
              "Республика Калмыкия                                     510   \n",
              "Республика Крым                                         460   \n",
              "Краснодарский край                                        0   \n",
              "Астраханская область                                    820   \n",
              "Волгоградская область                                   750   \n",
              "Ростовская область                                      282   \n",
              "Город федерального значения Севастополь                 530   \n",
              "\n",
              "                                         Астраханская область  \\\n",
              " Республика Адыгея                                        800   \n",
              "Республика Калмыкия                                       310   \n",
              "Республика Крым                                          1290   \n",
              "Краснодарский край                                        820   \n",
              "Астраханская область                                        0   \n",
              "Волгоградская область                                     420   \n",
              "Ростовская область                                        770   \n",
              "Город федерального значения Севастополь                  1370   \n",
              "\n",
              "                                         Волгоградская область  \\\n",
              " Республика Адыгея                                         720   \n",
              "Республика Калмыкия                                        293   \n",
              "Республика Крым                                           1180   \n",
              "Краснодарский край                                         750   \n",
              "Астраханская область                                       420   \n",
              "Волгоградская область                                        0   \n",
              "Ростовская область                                         480   \n",
              "Город федерального значения Севастополь                   1270   \n",
              "\n",
              "                                         Ростовская область  \\\n",
              " Республика Адыгея                                      330   \n",
              "Республика Калмыкия                                     450   \n",
              "Республика Крым                                         710   \n",
              "Краснодарский край                                      282   \n",
              "Астраханская область                                    770   \n",
              "Волгоградская область                                   480   \n",
              "Ростовская область                                        0   \n",
              "Город федерального значения Севастополь                 800   \n",
              "\n",
              "                                         Город федерального значения Севастополь  \n",
              " Республика Адыгея                                                           660  \n",
              "Республика Калмыкия                                                         1060  \n",
              "Республика Крым                                                              970  \n",
              "Краснодарский край                                                           530  \n",
              "Астраханская область                                                        1370  \n",
              "Волгоградская область                                                       1270  \n",
              "Ростовская область                                                           800  \n",
              "Город федерального значения Севастополь                                        0  "
            ],
            "text/html": [
              "\n",
              "  <div id=\"df-34a287d6-df5e-4e3e-bd80-2b0fe611c632\" class=\"colab-df-container\">\n",
              "    <div>\n",
              "<style scoped>\n",
              "    .dataframe tbody tr th:only-of-type {\n",
              "        vertical-align: middle;\n",
              "    }\n",
              "\n",
              "    .dataframe tbody tr th {\n",
              "        vertical-align: top;\n",
              "    }\n",
              "\n",
              "    .dataframe thead th {\n",
              "        text-align: right;\n",
              "    }\n",
              "</style>\n",
              "<table border=\"1\" class=\"dataframe\">\n",
              "  <thead>\n",
              "    <tr style=\"text-align: right;\">\n",
              "      <th></th>\n",
              "      <th>Республика Адыгея</th>\n",
              "      <th>Республика Калмыкия</th>\n",
              "      <th>Республика Крым</th>\n",
              "      <th>Краснодарский край</th>\n",
              "      <th>Астраханская область</th>\n",
              "      <th>Волгоградская область</th>\n",
              "      <th>Ростовская область</th>\n",
              "      <th>Город федерального значения Севастополь</th>\n",
              "    </tr>\n",
              "  </thead>\n",
              "  <tbody>\n",
              "    <tr>\n",
              "      <th>Республика Адыгея</th>\n",
              "      <td>0</td>\n",
              "      <td>480</td>\n",
              "      <td>570</td>\n",
              "      <td>132</td>\n",
              "      <td>800</td>\n",
              "      <td>720</td>\n",
              "      <td>330</td>\n",
              "      <td>660</td>\n",
              "    </tr>\n",
              "    <tr>\n",
              "      <th>Республика Калмыкия</th>\n",
              "      <td>480</td>\n",
              "      <td>0</td>\n",
              "      <td>970</td>\n",
              "      <td>510</td>\n",
              "      <td>310</td>\n",
              "      <td>293</td>\n",
              "      <td>450</td>\n",
              "      <td>1060</td>\n",
              "    </tr>\n",
              "    <tr>\n",
              "      <th>Республика Крым</th>\n",
              "      <td>570</td>\n",
              "      <td>970</td>\n",
              "      <td>0</td>\n",
              "      <td>460</td>\n",
              "      <td>1290</td>\n",
              "      <td>1180</td>\n",
              "      <td>710</td>\n",
              "      <td>970</td>\n",
              "    </tr>\n",
              "    <tr>\n",
              "      <th>Краснодарский край</th>\n",
              "      <td>132</td>\n",
              "      <td>510</td>\n",
              "      <td>460</td>\n",
              "      <td>0</td>\n",
              "      <td>820</td>\n",
              "      <td>750</td>\n",
              "      <td>282</td>\n",
              "      <td>530</td>\n",
              "    </tr>\n",
              "    <tr>\n",
              "      <th>Астраханская область</th>\n",
              "      <td>800</td>\n",
              "      <td>310</td>\n",
              "      <td>1290</td>\n",
              "      <td>820</td>\n",
              "      <td>0</td>\n",
              "      <td>420</td>\n",
              "      <td>770</td>\n",
              "      <td>1370</td>\n",
              "    </tr>\n",
              "    <tr>\n",
              "      <th>Волгоградская область</th>\n",
              "      <td>720</td>\n",
              "      <td>293</td>\n",
              "      <td>1180</td>\n",
              "      <td>750</td>\n",
              "      <td>420</td>\n",
              "      <td>0</td>\n",
              "      <td>480</td>\n",
              "      <td>1270</td>\n",
              "    </tr>\n",
              "    <tr>\n",
              "      <th>Ростовская область</th>\n",
              "      <td>330</td>\n",
              "      <td>450</td>\n",
              "      <td>710</td>\n",
              "      <td>282</td>\n",
              "      <td>770</td>\n",
              "      <td>480</td>\n",
              "      <td>0</td>\n",
              "      <td>800</td>\n",
              "    </tr>\n",
              "    <tr>\n",
              "      <th>Город федерального значения Севастополь</th>\n",
              "      <td>660</td>\n",
              "      <td>1060</td>\n",
              "      <td>970</td>\n",
              "      <td>530</td>\n",
              "      <td>1370</td>\n",
              "      <td>1270</td>\n",
              "      <td>800</td>\n",
              "      <td>0</td>\n",
              "    </tr>\n",
              "  </tbody>\n",
              "</table>\n",
              "</div>\n",
              "    <div class=\"colab-df-buttons\">\n",
              "\n",
              "  <div class=\"colab-df-container\">\n",
              "    <button class=\"colab-df-convert\" onclick=\"convertToInteractive('df-34a287d6-df5e-4e3e-bd80-2b0fe611c632')\"\n",
              "            title=\"Convert this dataframe to an interactive table.\"\n",
              "            style=\"display:none;\">\n",
              "\n",
              "  <svg xmlns=\"http://www.w3.org/2000/svg\" height=\"24px\" viewBox=\"0 -960 960 960\">\n",
              "    <path d=\"M120-120v-720h720v720H120Zm60-500h600v-160H180v160Zm220 220h160v-160H400v160Zm0 220h160v-160H400v160ZM180-400h160v-160H180v160Zm440 0h160v-160H620v160ZM180-180h160v-160H180v160Zm440 0h160v-160H620v160Z\"/>\n",
              "  </svg>\n",
              "    </button>\n",
              "\n",
              "  <style>\n",
              "    .colab-df-container {\n",
              "      display:flex;\n",
              "      gap: 12px;\n",
              "    }\n",
              "\n",
              "    .colab-df-convert {\n",
              "      background-color: #E8F0FE;\n",
              "      border: none;\n",
              "      border-radius: 50%;\n",
              "      cursor: pointer;\n",
              "      display: none;\n",
              "      fill: #1967D2;\n",
              "      height: 32px;\n",
              "      padding: 0 0 0 0;\n",
              "      width: 32px;\n",
              "    }\n",
              "\n",
              "    .colab-df-convert:hover {\n",
              "      background-color: #E2EBFA;\n",
              "      box-shadow: 0px 1px 2px rgba(60, 64, 67, 0.3), 0px 1px 3px 1px rgba(60, 64, 67, 0.15);\n",
              "      fill: #174EA6;\n",
              "    }\n",
              "\n",
              "    .colab-df-buttons div {\n",
              "      margin-bottom: 4px;\n",
              "    }\n",
              "\n",
              "    [theme=dark] .colab-df-convert {\n",
              "      background-color: #3B4455;\n",
              "      fill: #D2E3FC;\n",
              "    }\n",
              "\n",
              "    [theme=dark] .colab-df-convert:hover {\n",
              "      background-color: #434B5C;\n",
              "      box-shadow: 0px 1px 3px 1px rgba(0, 0, 0, 0.15);\n",
              "      filter: drop-shadow(0px 1px 2px rgba(0, 0, 0, 0.3));\n",
              "      fill: #FFFFFF;\n",
              "    }\n",
              "  </style>\n",
              "\n",
              "    <script>\n",
              "      const buttonEl =\n",
              "        document.querySelector('#df-34a287d6-df5e-4e3e-bd80-2b0fe611c632 button.colab-df-convert');\n",
              "      buttonEl.style.display =\n",
              "        google.colab.kernel.accessAllowed ? 'block' : 'none';\n",
              "\n",
              "      async function convertToInteractive(key) {\n",
              "        const element = document.querySelector('#df-34a287d6-df5e-4e3e-bd80-2b0fe611c632');\n",
              "        const dataTable =\n",
              "          await google.colab.kernel.invokeFunction('convertToInteractive',\n",
              "                                                    [key], {});\n",
              "        if (!dataTable) return;\n",
              "\n",
              "        const docLinkHtml = 'Like what you see? Visit the ' +\n",
              "          '<a target=\"_blank\" href=https://colab.research.google.com/notebooks/data_table.ipynb>data table notebook</a>'\n",
              "          + ' to learn more about interactive tables.';\n",
              "        element.innerHTML = '';\n",
              "        dataTable['output_type'] = 'display_data';\n",
              "        await google.colab.output.renderOutput(dataTable, element);\n",
              "        const docLink = document.createElement('div');\n",
              "        docLink.innerHTML = docLinkHtml;\n",
              "        element.appendChild(docLink);\n",
              "      }\n",
              "    </script>\n",
              "  </div>\n",
              "\n",
              "\n",
              "<div id=\"df-038572bc-ff1a-4152-9018-50464f2ad9ba\">\n",
              "  <button class=\"colab-df-quickchart\" onclick=\"quickchart('df-038572bc-ff1a-4152-9018-50464f2ad9ba')\"\n",
              "            title=\"Suggest charts\"\n",
              "            style=\"display:none;\">\n",
              "\n",
              "<svg xmlns=\"http://www.w3.org/2000/svg\" height=\"24px\"viewBox=\"0 0 24 24\"\n",
              "     width=\"24px\">\n",
              "    <g>\n",
              "        <path d=\"M19 3H5c-1.1 0-2 .9-2 2v14c0 1.1.9 2 2 2h14c1.1 0 2-.9 2-2V5c0-1.1-.9-2-2-2zM9 17H7v-7h2v7zm4 0h-2V7h2v10zm4 0h-2v-4h2v4z\"/>\n",
              "    </g>\n",
              "</svg>\n",
              "  </button>\n",
              "\n",
              "<style>\n",
              "  .colab-df-quickchart {\n",
              "      --bg-color: #E8F0FE;\n",
              "      --fill-color: #1967D2;\n",
              "      --hover-bg-color: #E2EBFA;\n",
              "      --hover-fill-color: #174EA6;\n",
              "      --disabled-fill-color: #AAA;\n",
              "      --disabled-bg-color: #DDD;\n",
              "  }\n",
              "\n",
              "  [theme=dark] .colab-df-quickchart {\n",
              "      --bg-color: #3B4455;\n",
              "      --fill-color: #D2E3FC;\n",
              "      --hover-bg-color: #434B5C;\n",
              "      --hover-fill-color: #FFFFFF;\n",
              "      --disabled-bg-color: #3B4455;\n",
              "      --disabled-fill-color: #666;\n",
              "  }\n",
              "\n",
              "  .colab-df-quickchart {\n",
              "    background-color: var(--bg-color);\n",
              "    border: none;\n",
              "    border-radius: 50%;\n",
              "    cursor: pointer;\n",
              "    display: none;\n",
              "    fill: var(--fill-color);\n",
              "    height: 32px;\n",
              "    padding: 0;\n",
              "    width: 32px;\n",
              "  }\n",
              "\n",
              "  .colab-df-quickchart:hover {\n",
              "    background-color: var(--hover-bg-color);\n",
              "    box-shadow: 0 1px 2px rgba(60, 64, 67, 0.3), 0 1px 3px 1px rgba(60, 64, 67, 0.15);\n",
              "    fill: var(--button-hover-fill-color);\n",
              "  }\n",
              "\n",
              "  .colab-df-quickchart-complete:disabled,\n",
              "  .colab-df-quickchart-complete:disabled:hover {\n",
              "    background-color: var(--disabled-bg-color);\n",
              "    fill: var(--disabled-fill-color);\n",
              "    box-shadow: none;\n",
              "  }\n",
              "\n",
              "  .colab-df-spinner {\n",
              "    border: 2px solid var(--fill-color);\n",
              "    border-color: transparent;\n",
              "    border-bottom-color: var(--fill-color);\n",
              "    animation:\n",
              "      spin 1s steps(1) infinite;\n",
              "  }\n",
              "\n",
              "  @keyframes spin {\n",
              "    0% {\n",
              "      border-color: transparent;\n",
              "      border-bottom-color: var(--fill-color);\n",
              "      border-left-color: var(--fill-color);\n",
              "    }\n",
              "    20% {\n",
              "      border-color: transparent;\n",
              "      border-left-color: var(--fill-color);\n",
              "      border-top-color: var(--fill-color);\n",
              "    }\n",
              "    30% {\n",
              "      border-color: transparent;\n",
              "      border-left-color: var(--fill-color);\n",
              "      border-top-color: var(--fill-color);\n",
              "      border-right-color: var(--fill-color);\n",
              "    }\n",
              "    40% {\n",
              "      border-color: transparent;\n",
              "      border-right-color: var(--fill-color);\n",
              "      border-top-color: var(--fill-color);\n",
              "    }\n",
              "    60% {\n",
              "      border-color: transparent;\n",
              "      border-right-color: var(--fill-color);\n",
              "    }\n",
              "    80% {\n",
              "      border-color: transparent;\n",
              "      border-right-color: var(--fill-color);\n",
              "      border-bottom-color: var(--fill-color);\n",
              "    }\n",
              "    90% {\n",
              "      border-color: transparent;\n",
              "      border-bottom-color: var(--fill-color);\n",
              "    }\n",
              "  }\n",
              "</style>\n",
              "\n",
              "  <script>\n",
              "    async function quickchart(key) {\n",
              "      const quickchartButtonEl =\n",
              "        document.querySelector('#' + key + ' button');\n",
              "      quickchartButtonEl.disabled = true;  // To prevent multiple clicks.\n",
              "      quickchartButtonEl.classList.add('colab-df-spinner');\n",
              "      try {\n",
              "        const charts = await google.colab.kernel.invokeFunction(\n",
              "            'suggestCharts', [key], {});\n",
              "      } catch (error) {\n",
              "        console.error('Error during call to suggestCharts:', error);\n",
              "      }\n",
              "      quickchartButtonEl.classList.remove('colab-df-spinner');\n",
              "      quickchartButtonEl.classList.add('colab-df-quickchart-complete');\n",
              "    }\n",
              "    (() => {\n",
              "      let quickchartButtonEl =\n",
              "        document.querySelector('#df-038572bc-ff1a-4152-9018-50464f2ad9ba button');\n",
              "      quickchartButtonEl.style.display =\n",
              "        google.colab.kernel.accessAllowed ? 'block' : 'none';\n",
              "    })();\n",
              "  </script>\n",
              "</div>\n",
              "    </div>\n",
              "  </div>\n"
            ],
            "application/vnd.google.colaboratory.intrinsic+json": {
              "type": "dataframe",
              "variable_name": "matrix",
              "summary": "{\n  \"name\": \"matrix\",\n  \"rows\": 8,\n  \"fields\": [\n    {\n      \"column\": \" \\u0420\\u0435\\u0441\\u043f\\u0443\\u0431\\u043b\\u0438\\u043a\\u0430 \\u0410\\u0434\\u044b\\u0433\\u0435\\u044f\",\n      \"properties\": {\n        \"dtype\": \"number\",\n        \"std\": 285,\n        \"min\": 0,\n        \"max\": 800,\n        \"num_unique_values\": 8,\n        \"samples\": [\n          480,\n          720,\n          0\n        ],\n        \"semantic_type\": \"\",\n        \"description\": \"\"\n      }\n    },\n    {\n      \"column\": \"\\u0420\\u0435\\u0441\\u043f\\u0443\\u0431\\u043b\\u0438\\u043a\\u0430 \\u041a\\u0430\\u043b\\u043c\\u044b\\u043a\\u0438\\u044f\",\n      \"properties\": {\n        \"dtype\": \"number\",\n        \"std\": 351,\n        \"min\": 0,\n        \"max\": 1060,\n        \"num_unique_values\": 8,\n        \"samples\": [\n          0,\n          293,\n          480\n        ],\n        \"semantic_type\": \"\",\n        \"description\": \"\"\n      }\n    },\n    {\n      \"column\": \"\\u0420\\u0435\\u0441\\u043f\\u0443\\u0431\\u043b\\u0438\\u043a\\u0430 \\u041a\\u0440\\u044b\\u043c\",\n      \"properties\": {\n        \"dtype\": \"number\",\n        \"std\": 422,\n        \"min\": 0,\n        \"max\": 1290,\n        \"num_unique_values\": 7,\n        \"samples\": [\n          570,\n          970,\n          1180\n        ],\n        \"semantic_type\": \"\",\n        \"description\": \"\"\n      }\n    },\n    {\n      \"column\": \"\\u041a\\u0440\\u0430\\u0441\\u043d\\u043e\\u0434\\u0430\\u0440\\u0441\\u043a\\u0438\\u0439 \\u043a\\u0440\\u0430\\u0439\",\n      \"properties\": {\n        \"dtype\": \"number\",\n        \"std\": 284,\n        \"min\": 0,\n        \"max\": 820,\n        \"num_unique_values\": 8,\n        \"samples\": [\n          510,\n          750,\n          132\n        ],\n        \"semantic_type\": \"\",\n        \"description\": \"\"\n      }\n    },\n    {\n      \"column\": \"\\u0410\\u0441\\u0442\\u0440\\u0430\\u0445\\u0430\\u043d\\u0441\\u043a\\u0430\\u044f \\u043e\\u0431\\u043b\\u0430\\u0441\\u0442\\u044c\",\n      \"properties\": {\n        \"dtype\": \"number\",\n        \"std\": 469,\n        \"min\": 0,\n        \"max\": 1370,\n        \"num_unique_values\": 8,\n        \"samples\": [\n          310,\n          420,\n          800\n        ],\n        \"semantic_type\": \"\",\n        \"description\": \"\"\n      }\n    },\n    {\n      \"column\": \"\\u0412\\u043e\\u043b\\u0433\\u043e\\u0433\\u0440\\u0430\\u0434\\u0441\\u043a\\u0430\\u044f \\u043e\\u0431\\u043b\\u0430\\u0441\\u0442\\u044c\",\n      \"properties\": {\n        \"dtype\": \"number\",\n        \"std\": 432,\n        \"min\": 0,\n        \"max\": 1270,\n        \"num_unique_values\": 8,\n        \"samples\": [\n          293,\n          0,\n          720\n        ],\n        \"semantic_type\": \"\",\n        \"description\": \"\"\n      }\n    },\n    {\n      \"column\": \"\\u0420\\u043e\\u0441\\u0442\\u043e\\u0432\\u0441\\u043a\\u0430\\u044f \\u043e\\u0431\\u043b\\u0430\\u0441\\u0442\\u044c\",\n      \"properties\": {\n        \"dtype\": \"number\",\n        \"std\": 275,\n        \"min\": 0,\n        \"max\": 800,\n        \"num_unique_values\": 8,\n        \"samples\": [\n          450,\n          480,\n          330\n        ],\n        \"semantic_type\": \"\",\n        \"description\": \"\"\n      }\n    },\n    {\n      \"column\": \"\\u0413\\u043e\\u0440\\u043e\\u0434 \\u0444\\u0435\\u0434\\u0435\\u0440\\u0430\\u043b\\u044c\\u043d\\u043e\\u0433\\u043e \\u0437\\u043d\\u0430\\u0447\\u0435\\u043d\\u0438\\u044f \\u0421\\u0435\\u0432\\u0430\\u0441\\u0442\\u043e\\u043f\\u043e\\u043b\\u044c\",\n      \"properties\": {\n        \"dtype\": \"number\",\n        \"std\": 441,\n        \"min\": 0,\n        \"max\": 1370,\n        \"num_unique_values\": 8,\n        \"samples\": [\n          1060,\n          1270,\n          660\n        ],\n        \"semantic_type\": \"\",\n        \"description\": \"\"\n      }\n    }\n  ]\n}"
            }
          },
          "metadata": {},
          "execution_count": 17
        }
      ]
    },
    {
      "cell_type": "markdown",
      "source": [
        "Проведем стандартизацию расстояний по строкам матрицы"
      ],
      "metadata": {
        "id": "V0TudsBvGuhE"
      }
    },
    {
      "cell_type": "code",
      "source": [
        "def standardize(row):\n",
        "      zero_loc = np.argmin(row.values)\n",
        "      list_ = np.delete(row.values, zero_loc)\n",
        "      standartized_row = (list_ - list_.mean())/list_.std()\n",
        "      return np.insert(standartized_row, zero_loc, 0)\n",
        "\n",
        "matrix_standartized = matrix.apply(standardize)"
      ],
      "metadata": {
        "id": "H7DngUTnG1Y1"
      },
      "execution_count": null,
      "outputs": []
    },
    {
      "cell_type": "markdown",
      "source": [
        "Преобразование матрицы стандартизированных расстояний в относительную матрицу vij = 1/xij"
      ],
      "metadata": {
        "id": "YpF7iG2OdQxo"
      }
    },
    {
      "cell_type": "code",
      "source": [
        "def relative_matrix(row):\n",
        "      zero_loc = np.argmin(np.abs(row.values))\n",
        "      list_ = np.delete(row.values, zero_loc)\n",
        "      relative_row = 1 / list_\n",
        "      return np.insert(relative_row, zero_loc, 0)\n",
        "\n",
        "matrix_standartized_relative = matrix_standartized.apply(relative_matrix)"
      ],
      "metadata": {
        "id": "ZVTZbSjrdsVF"
      },
      "execution_count": null,
      "outputs": []
    },
    {
      "cell_type": "markdown",
      "source": [
        "Формируем матрицу стандартизированных расстояний wij = vij/sum(vij)"
      ],
      "metadata": {
        "id": "__-1AFYrewwk"
      }
    },
    {
      "cell_type": "code",
      "source": [
        "def stand_distances(row, sum_):\n",
        "      zero_loc = np.argmin(np.abs(row.values))\n",
        "      list_ = np.delete(row.values, zero_loc)\n",
        "      sd_row = list_ / sum_\n",
        "      return np.insert(sd_row, zero_loc, 0)\n",
        "\n",
        "sum_ = np.sum(matrix_standartized_relative.values)\n",
        "SDM = matrix_standartized_relative.apply(stand_distances, args=[sum_])"
      ],
      "metadata": {
        "id": "dy1-tKx1dsPx"
      },
      "execution_count": null,
      "outputs": []
    },
    {
      "cell_type": "code",
      "source": [
        "SDM"
      ],
      "metadata": {
        "colab": {
          "base_uri": "https://localhost:8080/",
          "height": 335
        },
        "id": "_YpX5dTGgOZH",
        "outputId": "4f839a82-b037-4518-b606-c72502f82076"
      },
      "execution_count": null,
      "outputs": [
        {
          "output_type": "execute_result",
          "data": {
            "text/plain": [
              "                                          Республика Адыгея  \\\n",
              " Республика Адыгея                                 0.000000   \n",
              "Республика Калмыкия                                0.061679   \n",
              "Республика Крым                                   -0.068717   \n",
              "Краснодарский край                                 0.007398   \n",
              "Астраханская область                              -0.010732   \n",
              "Волгоградская область                             -0.015191   \n",
              "Ростовская область                                 0.014817   \n",
              "Город федерального значения Севастополь           -0.022066   \n",
              "\n",
              "                                         Республика Калмыкия  Республика Крым  \\\n",
              " Республика Адыгея                                  0.037825         0.012553   \n",
              "Республика Калмыкия                                 0.000000        -0.042366   \n",
              "Республика Крым                                    -0.009926         0.000000   \n",
              "Краснодарский край                                  0.053617         0.009254   \n",
              "Астраханская область                                0.014172        -0.009415   \n",
              "Волгоградская область                               0.013338        -0.012850   \n",
              "Ростовская область                                  0.029219         0.022978   \n",
              "Город федерального значения Севастополь            -0.008058        -0.042366   \n",
              "\n",
              "                                         Краснодарский край  \\\n",
              " Республика Адыгея                                 0.008263   \n",
              "Республика Калмыкия                               -0.245978   \n",
              "Республика Крым                                    0.080129   \n",
              "Краснодарский край                                 0.000000   \n",
              "Астраханская область                              -0.009377   \n",
              "Волгоградская область                             -0.011979   \n",
              "Ростовская область                                 0.014009   \n",
              "Город федерального значения Севастополь           -0.093602   \n",
              "\n",
              "                                         Астраханская область  \\\n",
              " Республика Адыгея                                   0.193116   \n",
              "Республика Калмыкия                                  0.009629   \n",
              "Республика Крым                                     -0.010696   \n",
              "Краснодарский край                                   0.869020   \n",
              "Астраханская область                                 0.000000   \n",
              "Волгоградская область                                0.012240   \n",
              "Ростовская область                                   0.089130   \n",
              "Город федерального значения Севастополь             -0.009124   \n",
              "\n",
              "                                         Волгоградская область  \\\n",
              " Республика Адыгея                                    0.449776   \n",
              "Республика Калмыкия                                   0.010723   \n",
              "Республика Крым                                      -0.010433   \n",
              "Краснодарский край                                   -0.239662   \n",
              "Астраханская область                                  0.015110   \n",
              "Волгоградская область                                 0.000000   \n",
              "Ростовская область                                    0.018730   \n",
              "Город федерального значения Севастополь              -0.008693   \n",
              "\n",
              "                                         Ростовская область  \\\n",
              " Республика Адыгея                                 0.012315   \n",
              "Республика Калмыкия                                0.027710   \n",
              "Республика Крым                                   -0.016220   \n",
              "Краснодарский край                                 0.010076   \n",
              "Астраханская область                              -0.011876   \n",
              "Волгоградская область                              0.040305   \n",
              "Ростовская область                                 0.000000   \n",
              "Город федерального значения Севастополь           -0.010473   \n",
              "\n",
              "                                         Город федерального значения Севастополь  \n",
              " Республика Адыгея                                                      0.013275  \n",
              "Республика Калмыкия                                                    -0.035633  \n",
              "Республика Крым                                                        -0.208317  \n",
              "Краснодарский край                                                      0.009180  \n",
              "Астраханская область                                                   -0.009243  \n",
              "Волгоградская область                                                  -0.012144  \n",
              "Ростовская область                                                      0.025548  \n",
              "Город федерального значения Севастополь                                 0.000000  "
            ],
            "text/html": [
              "\n",
              "  <div id=\"df-8c0efd63-8f61-4591-9119-2e44d755af82\" class=\"colab-df-container\">\n",
              "    <div>\n",
              "<style scoped>\n",
              "    .dataframe tbody tr th:only-of-type {\n",
              "        vertical-align: middle;\n",
              "    }\n",
              "\n",
              "    .dataframe tbody tr th {\n",
              "        vertical-align: top;\n",
              "    }\n",
              "\n",
              "    .dataframe thead th {\n",
              "        text-align: right;\n",
              "    }\n",
              "</style>\n",
              "<table border=\"1\" class=\"dataframe\">\n",
              "  <thead>\n",
              "    <tr style=\"text-align: right;\">\n",
              "      <th></th>\n",
              "      <th>Республика Адыгея</th>\n",
              "      <th>Республика Калмыкия</th>\n",
              "      <th>Республика Крым</th>\n",
              "      <th>Краснодарский край</th>\n",
              "      <th>Астраханская область</th>\n",
              "      <th>Волгоградская область</th>\n",
              "      <th>Ростовская область</th>\n",
              "      <th>Город федерального значения Севастополь</th>\n",
              "    </tr>\n",
              "  </thead>\n",
              "  <tbody>\n",
              "    <tr>\n",
              "      <th>Республика Адыгея</th>\n",
              "      <td>0.000000</td>\n",
              "      <td>0.037825</td>\n",
              "      <td>0.012553</td>\n",
              "      <td>0.008263</td>\n",
              "      <td>0.193116</td>\n",
              "      <td>0.449776</td>\n",
              "      <td>0.012315</td>\n",
              "      <td>0.013275</td>\n",
              "    </tr>\n",
              "    <tr>\n",
              "      <th>Республика Калмыкия</th>\n",
              "      <td>0.061679</td>\n",
              "      <td>0.000000</td>\n",
              "      <td>-0.042366</td>\n",
              "      <td>-0.245978</td>\n",
              "      <td>0.009629</td>\n",
              "      <td>0.010723</td>\n",
              "      <td>0.027710</td>\n",
              "      <td>-0.035633</td>\n",
              "    </tr>\n",
              "    <tr>\n",
              "      <th>Республика Крым</th>\n",
              "      <td>-0.068717</td>\n",
              "      <td>-0.009926</td>\n",
              "      <td>0.000000</td>\n",
              "      <td>0.080129</td>\n",
              "      <td>-0.010696</td>\n",
              "      <td>-0.010433</td>\n",
              "      <td>-0.016220</td>\n",
              "      <td>-0.208317</td>\n",
              "    </tr>\n",
              "    <tr>\n",
              "      <th>Краснодарский край</th>\n",
              "      <td>0.007398</td>\n",
              "      <td>0.053617</td>\n",
              "      <td>0.009254</td>\n",
              "      <td>0.000000</td>\n",
              "      <td>0.869020</td>\n",
              "      <td>-0.239662</td>\n",
              "      <td>0.010076</td>\n",
              "      <td>0.009180</td>\n",
              "    </tr>\n",
              "    <tr>\n",
              "      <th>Астраханская область</th>\n",
              "      <td>-0.010732</td>\n",
              "      <td>0.014172</td>\n",
              "      <td>-0.009415</td>\n",
              "      <td>-0.009377</td>\n",
              "      <td>0.000000</td>\n",
              "      <td>0.015110</td>\n",
              "      <td>-0.011876</td>\n",
              "      <td>-0.009243</td>\n",
              "    </tr>\n",
              "    <tr>\n",
              "      <th>Волгоградская область</th>\n",
              "      <td>-0.015191</td>\n",
              "      <td>0.013338</td>\n",
              "      <td>-0.012850</td>\n",
              "      <td>-0.011979</td>\n",
              "      <td>0.012240</td>\n",
              "      <td>0.000000</td>\n",
              "      <td>0.040305</td>\n",
              "      <td>-0.012144</td>\n",
              "    </tr>\n",
              "    <tr>\n",
              "      <th>Ростовская область</th>\n",
              "      <td>0.014817</td>\n",
              "      <td>0.029219</td>\n",
              "      <td>0.022978</td>\n",
              "      <td>0.014009</td>\n",
              "      <td>0.089130</td>\n",
              "      <td>0.018730</td>\n",
              "      <td>0.000000</td>\n",
              "      <td>0.025548</td>\n",
              "    </tr>\n",
              "    <tr>\n",
              "      <th>Город федерального значения Севастополь</th>\n",
              "      <td>-0.022066</td>\n",
              "      <td>-0.008058</td>\n",
              "      <td>-0.042366</td>\n",
              "      <td>-0.093602</td>\n",
              "      <td>-0.009124</td>\n",
              "      <td>-0.008693</td>\n",
              "      <td>-0.010473</td>\n",
              "      <td>0.000000</td>\n",
              "    </tr>\n",
              "  </tbody>\n",
              "</table>\n",
              "</div>\n",
              "    <div class=\"colab-df-buttons\">\n",
              "\n",
              "  <div class=\"colab-df-container\">\n",
              "    <button class=\"colab-df-convert\" onclick=\"convertToInteractive('df-8c0efd63-8f61-4591-9119-2e44d755af82')\"\n",
              "            title=\"Convert this dataframe to an interactive table.\"\n",
              "            style=\"display:none;\">\n",
              "\n",
              "  <svg xmlns=\"http://www.w3.org/2000/svg\" height=\"24px\" viewBox=\"0 -960 960 960\">\n",
              "    <path d=\"M120-120v-720h720v720H120Zm60-500h600v-160H180v160Zm220 220h160v-160H400v160Zm0 220h160v-160H400v160ZM180-400h160v-160H180v160Zm440 0h160v-160H620v160ZM180-180h160v-160H180v160Zm440 0h160v-160H620v160Z\"/>\n",
              "  </svg>\n",
              "    </button>\n",
              "\n",
              "  <style>\n",
              "    .colab-df-container {\n",
              "      display:flex;\n",
              "      gap: 12px;\n",
              "    }\n",
              "\n",
              "    .colab-df-convert {\n",
              "      background-color: #E8F0FE;\n",
              "      border: none;\n",
              "      border-radius: 50%;\n",
              "      cursor: pointer;\n",
              "      display: none;\n",
              "      fill: #1967D2;\n",
              "      height: 32px;\n",
              "      padding: 0 0 0 0;\n",
              "      width: 32px;\n",
              "    }\n",
              "\n",
              "    .colab-df-convert:hover {\n",
              "      background-color: #E2EBFA;\n",
              "      box-shadow: 0px 1px 2px rgba(60, 64, 67, 0.3), 0px 1px 3px 1px rgba(60, 64, 67, 0.15);\n",
              "      fill: #174EA6;\n",
              "    }\n",
              "\n",
              "    .colab-df-buttons div {\n",
              "      margin-bottom: 4px;\n",
              "    }\n",
              "\n",
              "    [theme=dark] .colab-df-convert {\n",
              "      background-color: #3B4455;\n",
              "      fill: #D2E3FC;\n",
              "    }\n",
              "\n",
              "    [theme=dark] .colab-df-convert:hover {\n",
              "      background-color: #434B5C;\n",
              "      box-shadow: 0px 1px 3px 1px rgba(0, 0, 0, 0.15);\n",
              "      filter: drop-shadow(0px 1px 2px rgba(0, 0, 0, 0.3));\n",
              "      fill: #FFFFFF;\n",
              "    }\n",
              "  </style>\n",
              "\n",
              "    <script>\n",
              "      const buttonEl =\n",
              "        document.querySelector('#df-8c0efd63-8f61-4591-9119-2e44d755af82 button.colab-df-convert');\n",
              "      buttonEl.style.display =\n",
              "        google.colab.kernel.accessAllowed ? 'block' : 'none';\n",
              "\n",
              "      async function convertToInteractive(key) {\n",
              "        const element = document.querySelector('#df-8c0efd63-8f61-4591-9119-2e44d755af82');\n",
              "        const dataTable =\n",
              "          await google.colab.kernel.invokeFunction('convertToInteractive',\n",
              "                                                    [key], {});\n",
              "        if (!dataTable) return;\n",
              "\n",
              "        const docLinkHtml = 'Like what you see? Visit the ' +\n",
              "          '<a target=\"_blank\" href=https://colab.research.google.com/notebooks/data_table.ipynb>data table notebook</a>'\n",
              "          + ' to learn more about interactive tables.';\n",
              "        element.innerHTML = '';\n",
              "        dataTable['output_type'] = 'display_data';\n",
              "        await google.colab.output.renderOutput(dataTable, element);\n",
              "        const docLink = document.createElement('div');\n",
              "        docLink.innerHTML = docLinkHtml;\n",
              "        element.appendChild(docLink);\n",
              "      }\n",
              "    </script>\n",
              "  </div>\n",
              "\n",
              "\n",
              "<div id=\"df-79d30685-dc2b-4a50-88d9-6785e9b7e252\">\n",
              "  <button class=\"colab-df-quickchart\" onclick=\"quickchart('df-79d30685-dc2b-4a50-88d9-6785e9b7e252')\"\n",
              "            title=\"Suggest charts\"\n",
              "            style=\"display:none;\">\n",
              "\n",
              "<svg xmlns=\"http://www.w3.org/2000/svg\" height=\"24px\"viewBox=\"0 0 24 24\"\n",
              "     width=\"24px\">\n",
              "    <g>\n",
              "        <path d=\"M19 3H5c-1.1 0-2 .9-2 2v14c0 1.1.9 2 2 2h14c1.1 0 2-.9 2-2V5c0-1.1-.9-2-2-2zM9 17H7v-7h2v7zm4 0h-2V7h2v10zm4 0h-2v-4h2v4z\"/>\n",
              "    </g>\n",
              "</svg>\n",
              "  </button>\n",
              "\n",
              "<style>\n",
              "  .colab-df-quickchart {\n",
              "      --bg-color: #E8F0FE;\n",
              "      --fill-color: #1967D2;\n",
              "      --hover-bg-color: #E2EBFA;\n",
              "      --hover-fill-color: #174EA6;\n",
              "      --disabled-fill-color: #AAA;\n",
              "      --disabled-bg-color: #DDD;\n",
              "  }\n",
              "\n",
              "  [theme=dark] .colab-df-quickchart {\n",
              "      --bg-color: #3B4455;\n",
              "      --fill-color: #D2E3FC;\n",
              "      --hover-bg-color: #434B5C;\n",
              "      --hover-fill-color: #FFFFFF;\n",
              "      --disabled-bg-color: #3B4455;\n",
              "      --disabled-fill-color: #666;\n",
              "  }\n",
              "\n",
              "  .colab-df-quickchart {\n",
              "    background-color: var(--bg-color);\n",
              "    border: none;\n",
              "    border-radius: 50%;\n",
              "    cursor: pointer;\n",
              "    display: none;\n",
              "    fill: var(--fill-color);\n",
              "    height: 32px;\n",
              "    padding: 0;\n",
              "    width: 32px;\n",
              "  }\n",
              "\n",
              "  .colab-df-quickchart:hover {\n",
              "    background-color: var(--hover-bg-color);\n",
              "    box-shadow: 0 1px 2px rgba(60, 64, 67, 0.3), 0 1px 3px 1px rgba(60, 64, 67, 0.15);\n",
              "    fill: var(--button-hover-fill-color);\n",
              "  }\n",
              "\n",
              "  .colab-df-quickchart-complete:disabled,\n",
              "  .colab-df-quickchart-complete:disabled:hover {\n",
              "    background-color: var(--disabled-bg-color);\n",
              "    fill: var(--disabled-fill-color);\n",
              "    box-shadow: none;\n",
              "  }\n",
              "\n",
              "  .colab-df-spinner {\n",
              "    border: 2px solid var(--fill-color);\n",
              "    border-color: transparent;\n",
              "    border-bottom-color: var(--fill-color);\n",
              "    animation:\n",
              "      spin 1s steps(1) infinite;\n",
              "  }\n",
              "\n",
              "  @keyframes spin {\n",
              "    0% {\n",
              "      border-color: transparent;\n",
              "      border-bottom-color: var(--fill-color);\n",
              "      border-left-color: var(--fill-color);\n",
              "    }\n",
              "    20% {\n",
              "      border-color: transparent;\n",
              "      border-left-color: var(--fill-color);\n",
              "      border-top-color: var(--fill-color);\n",
              "    }\n",
              "    30% {\n",
              "      border-color: transparent;\n",
              "      border-left-color: var(--fill-color);\n",
              "      border-top-color: var(--fill-color);\n",
              "      border-right-color: var(--fill-color);\n",
              "    }\n",
              "    40% {\n",
              "      border-color: transparent;\n",
              "      border-right-color: var(--fill-color);\n",
              "      border-top-color: var(--fill-color);\n",
              "    }\n",
              "    60% {\n",
              "      border-color: transparent;\n",
              "      border-right-color: var(--fill-color);\n",
              "    }\n",
              "    80% {\n",
              "      border-color: transparent;\n",
              "      border-right-color: var(--fill-color);\n",
              "      border-bottom-color: var(--fill-color);\n",
              "    }\n",
              "    90% {\n",
              "      border-color: transparent;\n",
              "      border-bottom-color: var(--fill-color);\n",
              "    }\n",
              "  }\n",
              "</style>\n",
              "\n",
              "  <script>\n",
              "    async function quickchart(key) {\n",
              "      const quickchartButtonEl =\n",
              "        document.querySelector('#' + key + ' button');\n",
              "      quickchartButtonEl.disabled = true;  // To prevent multiple clicks.\n",
              "      quickchartButtonEl.classList.add('colab-df-spinner');\n",
              "      try {\n",
              "        const charts = await google.colab.kernel.invokeFunction(\n",
              "            'suggestCharts', [key], {});\n",
              "      } catch (error) {\n",
              "        console.error('Error during call to suggestCharts:', error);\n",
              "      }\n",
              "      quickchartButtonEl.classList.remove('colab-df-spinner');\n",
              "      quickchartButtonEl.classList.add('colab-df-quickchart-complete');\n",
              "    }\n",
              "    (() => {\n",
              "      let quickchartButtonEl =\n",
              "        document.querySelector('#df-79d30685-dc2b-4a50-88d9-6785e9b7e252 button');\n",
              "      quickchartButtonEl.style.display =\n",
              "        google.colab.kernel.accessAllowed ? 'block' : 'none';\n",
              "    })();\n",
              "  </script>\n",
              "</div>\n",
              "    </div>\n",
              "  </div>\n"
            ],
            "application/vnd.google.colaboratory.intrinsic+json": {
              "type": "dataframe",
              "variable_name": "SDM",
              "summary": "{\n  \"name\": \"SDM\",\n  \"rows\": 8,\n  \"fields\": [\n    {\n      \"column\": \" \\u0420\\u0435\\u0441\\u043f\\u0443\\u0431\\u043b\\u0438\\u043a\\u0430 \\u0410\\u0434\\u044b\\u0433\\u0435\\u044f\",\n      \"properties\": {\n        \"dtype\": \"number\",\n        \"std\": 0.03683734768550567,\n        \"min\": -0.06871672356349112,\n        \"max\": 0.061679468740723914,\n        \"num_unique_values\": 8,\n        \"samples\": [\n          0.061679468740723914,\n          -0.015191085772937943,\n          0.0\n        ],\n        \"semantic_type\": \"\",\n        \"description\": \"\"\n      }\n    },\n    {\n      \"column\": \"\\u0420\\u0435\\u0441\\u043f\\u0443\\u0431\\u043b\\u0438\\u043a\\u0430 \\u041a\\u0430\\u043b\\u043c\\u044b\\u043a\\u0438\\u044f\",\n      \"properties\": {\n        \"dtype\": \"number\",\n        \"std\": 0.02262385862095473,\n        \"min\": -0.009926117802194042,\n        \"max\": 0.0536168231979348,\n        \"num_unique_values\": 8,\n        \"samples\": [\n          0.0,\n          0.013337913980495159,\n          0.037825051989566906\n        ],\n        \"semantic_type\": \"\",\n        \"description\": \"\"\n      }\n    },\n    {\n      \"column\": \"\\u0420\\u0435\\u0441\\u043f\\u0443\\u0431\\u043b\\u0438\\u043a\\u0430 \\u041a\\u0440\\u044b\\u043c\",\n      \"properties\": {\n        \"dtype\": \"number\",\n        \"std\": 0.024292702573711557,\n        \"min\": -0.04236603770869088,\n        \"max\": 0.022978189943696752,\n        \"num_unique_values\": 7,\n        \"samples\": [\n          0.012552900061834337,\n          -0.04236603770869088,\n          -0.01285036214860766\n        ],\n        \"semantic_type\": \"\",\n        \"description\": \"\"\n      }\n    },\n    {\n      \"column\": \"\\u041a\\u0440\\u0430\\u0441\\u043d\\u043e\\u0434\\u0430\\u0440\\u0441\\u043a\\u0438\\u0439 \\u043a\\u0440\\u0430\\u0439\",\n      \"properties\": {\n        \"dtype\": \"number\",\n        \"std\": 0.0984364076679224,\n        \"min\": -0.2459777224434712,\n        \"max\": 0.08012910655355494,\n        \"num_unique_values\": 8,\n        \"samples\": [\n          -0.2459777224434712,\n          -0.011978530085016145,\n          0.008263314113335356\n        ],\n        \"semantic_type\": \"\",\n        \"description\": \"\"\n      }\n    },\n    {\n      \"column\": \"\\u0410\\u0441\\u0442\\u0440\\u0430\\u0445\\u0430\\u043d\\u0441\\u043a\\u0430\\u044f \\u043e\\u0431\\u043b\\u0430\\u0441\\u0442\\u044c\",\n      \"properties\": {\n        \"dtype\": \"number\",\n        \"std\": 0.3010950088559808,\n        \"min\": -0.01069563687712746,\n        \"max\": 0.8690204962666137,\n        \"num_unique_values\": 8,\n        \"samples\": [\n          0.009629035969713089,\n          0.012239725299529667,\n          0.19311566583702394\n        ],\n        \"semantic_type\": \"\",\n        \"description\": \"\"\n      }\n    },\n    {\n      \"column\": \"\\u0412\\u043e\\u043b\\u0433\\u043e\\u0433\\u0440\\u0430\\u0434\\u0441\\u043a\\u0430\\u044f \\u043e\\u0431\\u043b\\u0430\\u0441\\u0442\\u044c\",\n      \"properties\": {\n        \"dtype\": \"number\",\n        \"std\": 0.19036789652254096,\n        \"min\": -0.2396618448866327,\n        \"max\": 0.4497763390338164,\n        \"num_unique_values\": 8,\n        \"samples\": [\n          0.010722949950838879,\n          0.0,\n          0.4497763390338164\n        ],\n        \"semantic_type\": \"\",\n        \"description\": \"\"\n      }\n    },\n    {\n      \"column\": \"\\u0420\\u043e\\u0441\\u0442\\u043e\\u0432\\u0441\\u043a\\u0430\\u044f \\u043e\\u0431\\u043b\\u0430\\u0441\\u0442\\u044c\",\n      \"properties\": {\n        \"dtype\": \"number\",\n        \"std\": 0.02008347848740087,\n        \"min\": -0.016220256680829055,\n        \"max\": 0.040304880237211585,\n        \"num_unique_values\": 8,\n        \"samples\": [\n          0.02770960516308297,\n          0.040304880237211585,\n          0.012315380072481319\n        ],\n        \"semantic_type\": \"\",\n        \"description\": \"\"\n      }\n    },\n    {\n      \"column\": \"\\u0413\\u043e\\u0440\\u043e\\u0434 \\u0444\\u0435\\u0434\\u0435\\u0440\\u0430\\u043b\\u044c\\u043d\\u043e\\u0433\\u043e \\u0437\\u043d\\u0430\\u0447\\u0435\\u043d\\u0438\\u044f \\u0421\\u0435\\u0432\\u0430\\u0441\\u0442\\u043e\\u043f\\u043e\\u043b\\u044c\",\n      \"properties\": {\n        \"dtype\": \"number\",\n        \"std\": 0.07550570567209716,\n        \"min\": -0.20831749779125372,\n        \"max\": 0.025548372370625433,\n        \"num_unique_values\": 8,\n        \"samples\": [\n          -0.03563325620113548,\n          -0.012144069377965454,\n          0.013275134663168115\n        ],\n        \"semantic_type\": \"\",\n        \"description\": \"\"\n      }\n    }\n  ]\n}"
            }
          },
          "metadata": {},
          "execution_count": 24
        }
      ]
    },
    {
      "cell_type": "markdown",
      "source": [
        "Рассмотрим данные о средней заработной плате педагогических работников в январе-декабре 2023 года в каждой из областей (данные с Росстата)."
      ],
      "metadata": {
        "id": "5B0xVYcEgTo2"
      }
    },
    {
      "cell_type": "code",
      "source": [
        "salary = pd.read_excel('/content/юфо.xlsx', sheet_name='зп', index_col=0)\n",
        "salary"
      ],
      "metadata": {
        "colab": {
          "base_uri": "https://localhost:8080/",
          "height": 331
        },
        "id": "qMiNuizugN4Z",
        "outputId": "690eaadd-b98a-4901-fe1d-02ab6da76a02"
      },
      "execution_count": null,
      "outputs": [
        {
          "output_type": "execute_result",
          "data": {
            "text/plain": [
              "                       средняя зп, руб\n",
              "Регион                                \n",
              "Республика Адыгея              38341.8\n",
              "Республика Калмыкия            35090.4\n",
              "Республика Крым                35161.9\n",
              "Краснодарский край             44586.4\n",
              "Астраханская область           39230.7\n",
              "Волгоградская область          37073.4\n",
              "Ростовская область             40950.5\n",
              "г. Севастополь                 49604.0"
            ],
            "text/html": [
              "\n",
              "  <div id=\"df-2c4ba0bf-1889-4447-b3eb-1c2f5640666e\" class=\"colab-df-container\">\n",
              "    <div>\n",
              "<style scoped>\n",
              "    .dataframe tbody tr th:only-of-type {\n",
              "        vertical-align: middle;\n",
              "    }\n",
              "\n",
              "    .dataframe tbody tr th {\n",
              "        vertical-align: top;\n",
              "    }\n",
              "\n",
              "    .dataframe thead th {\n",
              "        text-align: right;\n",
              "    }\n",
              "</style>\n",
              "<table border=\"1\" class=\"dataframe\">\n",
              "  <thead>\n",
              "    <tr style=\"text-align: right;\">\n",
              "      <th></th>\n",
              "      <th>средняя зп, руб</th>\n",
              "    </tr>\n",
              "    <tr>\n",
              "      <th>Регион</th>\n",
              "      <th></th>\n",
              "    </tr>\n",
              "  </thead>\n",
              "  <tbody>\n",
              "    <tr>\n",
              "      <th>Республика Адыгея</th>\n",
              "      <td>38341.8</td>\n",
              "    </tr>\n",
              "    <tr>\n",
              "      <th>Республика Калмыкия</th>\n",
              "      <td>35090.4</td>\n",
              "    </tr>\n",
              "    <tr>\n",
              "      <th>Республика Крым</th>\n",
              "      <td>35161.9</td>\n",
              "    </tr>\n",
              "    <tr>\n",
              "      <th>Краснодарский край</th>\n",
              "      <td>44586.4</td>\n",
              "    </tr>\n",
              "    <tr>\n",
              "      <th>Астраханская область</th>\n",
              "      <td>39230.7</td>\n",
              "    </tr>\n",
              "    <tr>\n",
              "      <th>Волгоградская область</th>\n",
              "      <td>37073.4</td>\n",
              "    </tr>\n",
              "    <tr>\n",
              "      <th>Ростовская область</th>\n",
              "      <td>40950.5</td>\n",
              "    </tr>\n",
              "    <tr>\n",
              "      <th>г. Севастополь</th>\n",
              "      <td>49604.0</td>\n",
              "    </tr>\n",
              "  </tbody>\n",
              "</table>\n",
              "</div>\n",
              "    <div class=\"colab-df-buttons\">\n",
              "\n",
              "  <div class=\"colab-df-container\">\n",
              "    <button class=\"colab-df-convert\" onclick=\"convertToInteractive('df-2c4ba0bf-1889-4447-b3eb-1c2f5640666e')\"\n",
              "            title=\"Convert this dataframe to an interactive table.\"\n",
              "            style=\"display:none;\">\n",
              "\n",
              "  <svg xmlns=\"http://www.w3.org/2000/svg\" height=\"24px\" viewBox=\"0 -960 960 960\">\n",
              "    <path d=\"M120-120v-720h720v720H120Zm60-500h600v-160H180v160Zm220 220h160v-160H400v160Zm0 220h160v-160H400v160ZM180-400h160v-160H180v160Zm440 0h160v-160H620v160ZM180-180h160v-160H180v160Zm440 0h160v-160H620v160Z\"/>\n",
              "  </svg>\n",
              "    </button>\n",
              "\n",
              "  <style>\n",
              "    .colab-df-container {\n",
              "      display:flex;\n",
              "      gap: 12px;\n",
              "    }\n",
              "\n",
              "    .colab-df-convert {\n",
              "      background-color: #E8F0FE;\n",
              "      border: none;\n",
              "      border-radius: 50%;\n",
              "      cursor: pointer;\n",
              "      display: none;\n",
              "      fill: #1967D2;\n",
              "      height: 32px;\n",
              "      padding: 0 0 0 0;\n",
              "      width: 32px;\n",
              "    }\n",
              "\n",
              "    .colab-df-convert:hover {\n",
              "      background-color: #E2EBFA;\n",
              "      box-shadow: 0px 1px 2px rgba(60, 64, 67, 0.3), 0px 1px 3px 1px rgba(60, 64, 67, 0.15);\n",
              "      fill: #174EA6;\n",
              "    }\n",
              "\n",
              "    .colab-df-buttons div {\n",
              "      margin-bottom: 4px;\n",
              "    }\n",
              "\n",
              "    [theme=dark] .colab-df-convert {\n",
              "      background-color: #3B4455;\n",
              "      fill: #D2E3FC;\n",
              "    }\n",
              "\n",
              "    [theme=dark] .colab-df-convert:hover {\n",
              "      background-color: #434B5C;\n",
              "      box-shadow: 0px 1px 3px 1px rgba(0, 0, 0, 0.15);\n",
              "      filter: drop-shadow(0px 1px 2px rgba(0, 0, 0, 0.3));\n",
              "      fill: #FFFFFF;\n",
              "    }\n",
              "  </style>\n",
              "\n",
              "    <script>\n",
              "      const buttonEl =\n",
              "        document.querySelector('#df-2c4ba0bf-1889-4447-b3eb-1c2f5640666e button.colab-df-convert');\n",
              "      buttonEl.style.display =\n",
              "        google.colab.kernel.accessAllowed ? 'block' : 'none';\n",
              "\n",
              "      async function convertToInteractive(key) {\n",
              "        const element = document.querySelector('#df-2c4ba0bf-1889-4447-b3eb-1c2f5640666e');\n",
              "        const dataTable =\n",
              "          await google.colab.kernel.invokeFunction('convertToInteractive',\n",
              "                                                    [key], {});\n",
              "        if (!dataTable) return;\n",
              "\n",
              "        const docLinkHtml = 'Like what you see? Visit the ' +\n",
              "          '<a target=\"_blank\" href=https://colab.research.google.com/notebooks/data_table.ipynb>data table notebook</a>'\n",
              "          + ' to learn more about interactive tables.';\n",
              "        element.innerHTML = '';\n",
              "        dataTable['output_type'] = 'display_data';\n",
              "        await google.colab.output.renderOutput(dataTable, element);\n",
              "        const docLink = document.createElement('div');\n",
              "        docLink.innerHTML = docLinkHtml;\n",
              "        element.appendChild(docLink);\n",
              "      }\n",
              "    </script>\n",
              "  </div>\n",
              "\n",
              "\n",
              "<div id=\"df-bd9c7b2b-10b9-4d24-ae53-fed98932b1b2\">\n",
              "  <button class=\"colab-df-quickchart\" onclick=\"quickchart('df-bd9c7b2b-10b9-4d24-ae53-fed98932b1b2')\"\n",
              "            title=\"Suggest charts\"\n",
              "            style=\"display:none;\">\n",
              "\n",
              "<svg xmlns=\"http://www.w3.org/2000/svg\" height=\"24px\"viewBox=\"0 0 24 24\"\n",
              "     width=\"24px\">\n",
              "    <g>\n",
              "        <path d=\"M19 3H5c-1.1 0-2 .9-2 2v14c0 1.1.9 2 2 2h14c1.1 0 2-.9 2-2V5c0-1.1-.9-2-2-2zM9 17H7v-7h2v7zm4 0h-2V7h2v10zm4 0h-2v-4h2v4z\"/>\n",
              "    </g>\n",
              "</svg>\n",
              "  </button>\n",
              "\n",
              "<style>\n",
              "  .colab-df-quickchart {\n",
              "      --bg-color: #E8F0FE;\n",
              "      --fill-color: #1967D2;\n",
              "      --hover-bg-color: #E2EBFA;\n",
              "      --hover-fill-color: #174EA6;\n",
              "      --disabled-fill-color: #AAA;\n",
              "      --disabled-bg-color: #DDD;\n",
              "  }\n",
              "\n",
              "  [theme=dark] .colab-df-quickchart {\n",
              "      --bg-color: #3B4455;\n",
              "      --fill-color: #D2E3FC;\n",
              "      --hover-bg-color: #434B5C;\n",
              "      --hover-fill-color: #FFFFFF;\n",
              "      --disabled-bg-color: #3B4455;\n",
              "      --disabled-fill-color: #666;\n",
              "  }\n",
              "\n",
              "  .colab-df-quickchart {\n",
              "    background-color: var(--bg-color);\n",
              "    border: none;\n",
              "    border-radius: 50%;\n",
              "    cursor: pointer;\n",
              "    display: none;\n",
              "    fill: var(--fill-color);\n",
              "    height: 32px;\n",
              "    padding: 0;\n",
              "    width: 32px;\n",
              "  }\n",
              "\n",
              "  .colab-df-quickchart:hover {\n",
              "    background-color: var(--hover-bg-color);\n",
              "    box-shadow: 0 1px 2px rgba(60, 64, 67, 0.3), 0 1px 3px 1px rgba(60, 64, 67, 0.15);\n",
              "    fill: var(--button-hover-fill-color);\n",
              "  }\n",
              "\n",
              "  .colab-df-quickchart-complete:disabled,\n",
              "  .colab-df-quickchart-complete:disabled:hover {\n",
              "    background-color: var(--disabled-bg-color);\n",
              "    fill: var(--disabled-fill-color);\n",
              "    box-shadow: none;\n",
              "  }\n",
              "\n",
              "  .colab-df-spinner {\n",
              "    border: 2px solid var(--fill-color);\n",
              "    border-color: transparent;\n",
              "    border-bottom-color: var(--fill-color);\n",
              "    animation:\n",
              "      spin 1s steps(1) infinite;\n",
              "  }\n",
              "\n",
              "  @keyframes spin {\n",
              "    0% {\n",
              "      border-color: transparent;\n",
              "      border-bottom-color: var(--fill-color);\n",
              "      border-left-color: var(--fill-color);\n",
              "    }\n",
              "    20% {\n",
              "      border-color: transparent;\n",
              "      border-left-color: var(--fill-color);\n",
              "      border-top-color: var(--fill-color);\n",
              "    }\n",
              "    30% {\n",
              "      border-color: transparent;\n",
              "      border-left-color: var(--fill-color);\n",
              "      border-top-color: var(--fill-color);\n",
              "      border-right-color: var(--fill-color);\n",
              "    }\n",
              "    40% {\n",
              "      border-color: transparent;\n",
              "      border-right-color: var(--fill-color);\n",
              "      border-top-color: var(--fill-color);\n",
              "    }\n",
              "    60% {\n",
              "      border-color: transparent;\n",
              "      border-right-color: var(--fill-color);\n",
              "    }\n",
              "    80% {\n",
              "      border-color: transparent;\n",
              "      border-right-color: var(--fill-color);\n",
              "      border-bottom-color: var(--fill-color);\n",
              "    }\n",
              "    90% {\n",
              "      border-color: transparent;\n",
              "      border-bottom-color: var(--fill-color);\n",
              "    }\n",
              "  }\n",
              "</style>\n",
              "\n",
              "  <script>\n",
              "    async function quickchart(key) {\n",
              "      const quickchartButtonEl =\n",
              "        document.querySelector('#' + key + ' button');\n",
              "      quickchartButtonEl.disabled = true;  // To prevent multiple clicks.\n",
              "      quickchartButtonEl.classList.add('colab-df-spinner');\n",
              "      try {\n",
              "        const charts = await google.colab.kernel.invokeFunction(\n",
              "            'suggestCharts', [key], {});\n",
              "      } catch (error) {\n",
              "        console.error('Error during call to suggestCharts:', error);\n",
              "      }\n",
              "      quickchartButtonEl.classList.remove('colab-df-spinner');\n",
              "      quickchartButtonEl.classList.add('colab-df-quickchart-complete');\n",
              "    }\n",
              "    (() => {\n",
              "      let quickchartButtonEl =\n",
              "        document.querySelector('#df-bd9c7b2b-10b9-4d24-ae53-fed98932b1b2 button');\n",
              "      quickchartButtonEl.style.display =\n",
              "        google.colab.kernel.accessAllowed ? 'block' : 'none';\n",
              "    })();\n",
              "  </script>\n",
              "</div>\n",
              "    </div>\n",
              "  </div>\n"
            ],
            "application/vnd.google.colaboratory.intrinsic+json": {
              "type": "dataframe",
              "variable_name": "salary",
              "summary": "{\n  \"name\": \"salary\",\n  \"rows\": 8,\n  \"fields\": [\n    {\n      \"column\": \"\\u0420\\u0435\\u0433\\u0438\\u043e\\u043d\",\n      \"properties\": {\n        \"dtype\": \"string\",\n        \"num_unique_values\": 8,\n        \"samples\": [\n          \"\\u0420\\u0435\\u0441\\u043f\\u0443\\u0431\\u043b\\u0438\\u043a\\u0430 \\u041a\\u0430\\u043b\\u043c\\u044b\\u043a\\u0438\\u044f\",\n          \"\\u0412\\u043e\\u043b\\u0433\\u043e\\u0433\\u0440\\u0430\\u0434\\u0441\\u043a\\u0430\\u044f \\u043e\\u0431\\u043b\\u0430\\u0441\\u0442\\u044c\",\n          \"\\u0420\\u0435\\u0441\\u043f\\u0443\\u0431\\u043b\\u0438\\u043a\\u0430 \\u0410\\u0434\\u044b\\u0433\\u0435\\u044f\"\n        ],\n        \"semantic_type\": \"\",\n        \"description\": \"\"\n      }\n    },\n    {\n      \"column\": \"\\u0441\\u0440\\u0435\\u0434\\u043d\\u044f\\u044f \\u0437\\u043f, \\u0440\\u0443\\u0431\",\n      \"properties\": {\n        \"dtype\": \"number\",\n        \"std\": 4979.858878791503,\n        \"min\": 35090.4,\n        \"max\": 49604.0,\n        \"num_unique_values\": 8,\n        \"samples\": [\n          35090.4,\n          37073.4,\n          38341.8\n        ],\n        \"semantic_type\": \"\",\n        \"description\": \"\"\n      }\n    }\n  ]\n}"
            }
          },
          "metadata": {},
          "execution_count": 27
        }
      ]
    },
    {
      "cell_type": "markdown",
      "source": [
        "**Рассчитаем индекс Морана**"
      ],
      "metadata": {
        "id": "NHR10PDziwJZ"
      }
    },
    {
      "cell_type": "code",
      "source": [
        "def Morana_Index(W, X):\n",
        "      n = W.shape[0]\n",
        "      X_mean = X.mean()\n",
        "      X_i = np.repeat(X, n).values.reshape(n, n).T\n",
        "      X_j = X_i.T\n",
        "\n",
        "      I = (n / np.sum(W.values)) * np.sum(W.values * (X_i - X_mean) * (X_j - X_mean)) / np.sum((X_i - X_mean)**2)\n",
        "      return I\n",
        "\n",
        "IG1 = Morana_Index(SDM, salary['средняя зп, руб'])\n",
        "print(f'Индекс Морана : {IG1:.4f}')"
      ],
      "metadata": {
        "id": "CXevYQbaGg-O",
        "colab": {
          "base_uri": "https://localhost:8080/"
        },
        "outputId": "28dd0dbc-79d0-4451-dfbc-cb039f46e74e"
      },
      "execution_count": null,
      "outputs": [
        {
          "output_type": "stream",
          "name": "stdout",
          "text": [
            "Индекс Морана : 0.0845\n"
          ]
        }
      ]
    },
    {
      "cell_type": "code",
      "source": [
        "# Ожидаемое значение индекса Морана\n",
        "N = len(salary)\n",
        "E = -(1/(N-1))\n",
        "E"
      ],
      "metadata": {
        "colab": {
          "base_uri": "https://localhost:8080/"
        },
        "id": "udnc0teCpVvg",
        "outputId": "a157c082-dd5b-4ff6-b549-9ebf504f8037"
      },
      "execution_count": null,
      "outputs": [
        {
          "output_type": "execute_result",
          "data": {
            "text/plain": [
              "-0.14285714285714285"
            ]
          },
          "metadata": {},
          "execution_count": 32
        }
      ]
    },
    {
      "cell_type": "markdown",
      "source": [
        "IG > E наблюдается положительная пространственная автокорреляция (значения в соседних территориях являются подобными). Тенденция к тому, что регионы с высокими зарплатами окружены регионами, где зарплаты высокие (где низкие, низкими и т д)."
      ],
      "metadata": {
        "id": "J5T3emWgqPCo"
      }
    },
    {
      "cell_type": "markdown",
      "source": [
        "Получим z-статистику, чтобы проверить гипотезу о случайности пространственного распределения регионов"
      ],
      "metadata": {
        "id": "Fxy5z7bxs3A8"
      }
    },
    {
      "cell_type": "code",
      "source": [
        "x = salary['средняя зп, руб']\n",
        "z = (x - x.mean())/x.std()\n",
        "print(z)"
      ],
      "metadata": {
        "colab": {
          "base_uri": "https://localhost:8080/"
        },
        "id": "nJ1_AzMarvYC",
        "outputId": "553ad834-3f6c-4ab7-bfac-91f9d1946676"
      },
      "execution_count": null,
      "outputs": [
        {
          "output_type": "stream",
          "name": "stdout",
          "text": [
            "Регион\n",
            "Республика Адыгея       -0.333963\n",
            "Республика Калмыкия     -0.986873\n",
            "Республика Крым         -0.972515\n",
            "Краснодарский край       0.920009\n",
            "Астраханская область    -0.155464\n",
            "Волгоградская область   -0.588669\n",
            "Ростовская область       0.189887\n",
            "г. Севастополь           1.927587\n",
            "Name: средняя зп, руб, dtype: float64\n"
          ]
        }
      ]
    },
    {
      "cell_type": "markdown",
      "source": [
        "**Индекс Гетиса-Орда**"
      ],
      "metadata": {
        "id": "kUhd--Eolmpv"
      }
    },
    {
      "cell_type": "code",
      "source": [
        "def Getisa_Index(W, X):\n",
        "      n = W.shape[0]\n",
        "      X_mean = X.mean()\n",
        "      X_i = np.repeat(X, n).values.reshape(n, n).T\n",
        "      X_j = X_i.T\n",
        "\n",
        "      G = (np.sum(W.values*X_i*X_j)) / np.sum((X_i*X_j))\n",
        "      E = (np.sum(W.values))/(n*(n-1))\n",
        "      return G, E\n",
        "\n",
        "GE = Getisa_Index(SDM, salary['средняя зп, руб'])\n",
        "print(f'Индекс Гетиса-Орда : {GE[0]:.4f}')\n",
        "print(f'Ожидаемое среднее значение автокорреляции : {GE[1]:.4f}')"
      ],
      "metadata": {
        "colab": {
          "base_uri": "https://localhost:8080/"
        },
        "id": "WFQgpR7llmXQ",
        "outputId": "e6e9f375-9cf5-4fbf-c60f-964571cfbf6c"
      },
      "execution_count": null,
      "outputs": [
        {
          "output_type": "stream",
          "name": "stdout",
          "text": [
            "Индекс Гетиса-Орда : 0.0148\n",
            "Ожидаемое среднее значение автокорреляции : 0.0179\n"
          ]
        }
      ]
    },
    {
      "cell_type": "markdown",
      "source": [
        "G < E наблюдается пространственная кластеризация объектов с низкими значениями."
      ],
      "metadata": {
        "id": "O-3m8j_H0yoY"
      }
    },
    {
      "cell_type": "markdown",
      "source": [
        "**Статистика Джири**"
      ],
      "metadata": {
        "id": "Zvy29_GuluHu"
      }
    },
    {
      "cell_type": "code",
      "source": [
        "def Giri(W, X):\n",
        "      n = W.shape[0]\n",
        "      X_mean = X.mean()\n",
        "      X_i = np.repeat(X, n).values.reshape(n, n).T\n",
        "      X_j = X_i.T\n",
        "      C = (n-1) * np.sum(W.values * (X_i - X_j)**2) / (2*np.sum(W.values)*np.sum((X_i - X_mean)**2))\n",
        "      return C\n",
        "\n",
        "C = Giri(SDM, salary['средняя зп, руб'])\n",
        "print(f'Статистика Джири : {C:.4f}')"
      ],
      "metadata": {
        "colab": {
          "base_uri": "https://localhost:8080/"
        },
        "id": "moN3bDM4l50Y",
        "outputId": "65198072-71d9-4774-bae3-41da85c2c772"
      },
      "execution_count": null,
      "outputs": [
        {
          "output_type": "stream",
          "name": "stdout",
          "text": [
            "Статистика Джири : -0.1559\n"
          ]
        }
      ]
    },
    {
      "cell_type": "markdown",
      "source": [
        "Нет очевидной пространственной зависимости."
      ],
      "metadata": {
        "id": "qOxAbRW53uaq"
      }
    },
    {
      "cell_type": "markdown",
      "source": [
        "Рассмотрим численность постоянного населения в среднем за 2023 года в каждой из областей (данные с Росстата)."
      ],
      "metadata": {
        "id": "jV2u19kQmAcj"
      }
    },
    {
      "cell_type": "code",
      "source": [
        "size = pd.read_excel('/content/юфо.xlsx', sheet_name='численность', index_col=0)\n",
        "size"
      ],
      "metadata": {
        "colab": {
          "base_uri": "https://localhost:8080/",
          "height": 331
        },
        "id": "meuoVnhpnY6k",
        "outputId": "59da9427-1916-456f-8dd4-f03c1f29fb29"
      },
      "execution_count": null,
      "outputs": [
        {
          "output_type": "execute_result",
          "data": {
            "text/plain": [
              "                                         численность населения\n",
              "Регион                                                        \n",
              "Республика Адыгея                                       499287\n",
              "Республика Калмыкия                                     265627\n",
              "Республика Крым                                        1913152\n",
              "Краснодарский край                                     5826173\n",
              "Астраханская область                                    948492\n",
              "Волгоградская область                                  2461978\n",
              "Ростовская область                                     4158532\n",
              "Город федерального значения Севастополь                 559824"
            ],
            "text/html": [
              "\n",
              "  <div id=\"df-0e99c37d-69ab-4170-a06b-5ec8431a79c8\" class=\"colab-df-container\">\n",
              "    <div>\n",
              "<style scoped>\n",
              "    .dataframe tbody tr th:only-of-type {\n",
              "        vertical-align: middle;\n",
              "    }\n",
              "\n",
              "    .dataframe tbody tr th {\n",
              "        vertical-align: top;\n",
              "    }\n",
              "\n",
              "    .dataframe thead th {\n",
              "        text-align: right;\n",
              "    }\n",
              "</style>\n",
              "<table border=\"1\" class=\"dataframe\">\n",
              "  <thead>\n",
              "    <tr style=\"text-align: right;\">\n",
              "      <th></th>\n",
              "      <th>численность населения</th>\n",
              "    </tr>\n",
              "    <tr>\n",
              "      <th>Регион</th>\n",
              "      <th></th>\n",
              "    </tr>\n",
              "  </thead>\n",
              "  <tbody>\n",
              "    <tr>\n",
              "      <th>Республика Адыгея</th>\n",
              "      <td>499287</td>\n",
              "    </tr>\n",
              "    <tr>\n",
              "      <th>Республика Калмыкия</th>\n",
              "      <td>265627</td>\n",
              "    </tr>\n",
              "    <tr>\n",
              "      <th>Республика Крым</th>\n",
              "      <td>1913152</td>\n",
              "    </tr>\n",
              "    <tr>\n",
              "      <th>Краснодарский край</th>\n",
              "      <td>5826173</td>\n",
              "    </tr>\n",
              "    <tr>\n",
              "      <th>Астраханская область</th>\n",
              "      <td>948492</td>\n",
              "    </tr>\n",
              "    <tr>\n",
              "      <th>Волгоградская область</th>\n",
              "      <td>2461978</td>\n",
              "    </tr>\n",
              "    <tr>\n",
              "      <th>Ростовская область</th>\n",
              "      <td>4158532</td>\n",
              "    </tr>\n",
              "    <tr>\n",
              "      <th>Город федерального значения Севастополь</th>\n",
              "      <td>559824</td>\n",
              "    </tr>\n",
              "  </tbody>\n",
              "</table>\n",
              "</div>\n",
              "    <div class=\"colab-df-buttons\">\n",
              "\n",
              "  <div class=\"colab-df-container\">\n",
              "    <button class=\"colab-df-convert\" onclick=\"convertToInteractive('df-0e99c37d-69ab-4170-a06b-5ec8431a79c8')\"\n",
              "            title=\"Convert this dataframe to an interactive table.\"\n",
              "            style=\"display:none;\">\n",
              "\n",
              "  <svg xmlns=\"http://www.w3.org/2000/svg\" height=\"24px\" viewBox=\"0 -960 960 960\">\n",
              "    <path d=\"M120-120v-720h720v720H120Zm60-500h600v-160H180v160Zm220 220h160v-160H400v160Zm0 220h160v-160H400v160ZM180-400h160v-160H180v160Zm440 0h160v-160H620v160ZM180-180h160v-160H180v160Zm440 0h160v-160H620v160Z\"/>\n",
              "  </svg>\n",
              "    </button>\n",
              "\n",
              "  <style>\n",
              "    .colab-df-container {\n",
              "      display:flex;\n",
              "      gap: 12px;\n",
              "    }\n",
              "\n",
              "    .colab-df-convert {\n",
              "      background-color: #E8F0FE;\n",
              "      border: none;\n",
              "      border-radius: 50%;\n",
              "      cursor: pointer;\n",
              "      display: none;\n",
              "      fill: #1967D2;\n",
              "      height: 32px;\n",
              "      padding: 0 0 0 0;\n",
              "      width: 32px;\n",
              "    }\n",
              "\n",
              "    .colab-df-convert:hover {\n",
              "      background-color: #E2EBFA;\n",
              "      box-shadow: 0px 1px 2px rgba(60, 64, 67, 0.3), 0px 1px 3px 1px rgba(60, 64, 67, 0.15);\n",
              "      fill: #174EA6;\n",
              "    }\n",
              "\n",
              "    .colab-df-buttons div {\n",
              "      margin-bottom: 4px;\n",
              "    }\n",
              "\n",
              "    [theme=dark] .colab-df-convert {\n",
              "      background-color: #3B4455;\n",
              "      fill: #D2E3FC;\n",
              "    }\n",
              "\n",
              "    [theme=dark] .colab-df-convert:hover {\n",
              "      background-color: #434B5C;\n",
              "      box-shadow: 0px 1px 3px 1px rgba(0, 0, 0, 0.15);\n",
              "      filter: drop-shadow(0px 1px 2px rgba(0, 0, 0, 0.3));\n",
              "      fill: #FFFFFF;\n",
              "    }\n",
              "  </style>\n",
              "\n",
              "    <script>\n",
              "      const buttonEl =\n",
              "        document.querySelector('#df-0e99c37d-69ab-4170-a06b-5ec8431a79c8 button.colab-df-convert');\n",
              "      buttonEl.style.display =\n",
              "        google.colab.kernel.accessAllowed ? 'block' : 'none';\n",
              "\n",
              "      async function convertToInteractive(key) {\n",
              "        const element = document.querySelector('#df-0e99c37d-69ab-4170-a06b-5ec8431a79c8');\n",
              "        const dataTable =\n",
              "          await google.colab.kernel.invokeFunction('convertToInteractive',\n",
              "                                                    [key], {});\n",
              "        if (!dataTable) return;\n",
              "\n",
              "        const docLinkHtml = 'Like what you see? Visit the ' +\n",
              "          '<a target=\"_blank\" href=https://colab.research.google.com/notebooks/data_table.ipynb>data table notebook</a>'\n",
              "          + ' to learn more about interactive tables.';\n",
              "        element.innerHTML = '';\n",
              "        dataTable['output_type'] = 'display_data';\n",
              "        await google.colab.output.renderOutput(dataTable, element);\n",
              "        const docLink = document.createElement('div');\n",
              "        docLink.innerHTML = docLinkHtml;\n",
              "        element.appendChild(docLink);\n",
              "      }\n",
              "    </script>\n",
              "  </div>\n",
              "\n",
              "\n",
              "<div id=\"df-8530dfa0-7846-4669-a57e-78aefc706cae\">\n",
              "  <button class=\"colab-df-quickchart\" onclick=\"quickchart('df-8530dfa0-7846-4669-a57e-78aefc706cae')\"\n",
              "            title=\"Suggest charts\"\n",
              "            style=\"display:none;\">\n",
              "\n",
              "<svg xmlns=\"http://www.w3.org/2000/svg\" height=\"24px\"viewBox=\"0 0 24 24\"\n",
              "     width=\"24px\">\n",
              "    <g>\n",
              "        <path d=\"M19 3H5c-1.1 0-2 .9-2 2v14c0 1.1.9 2 2 2h14c1.1 0 2-.9 2-2V5c0-1.1-.9-2-2-2zM9 17H7v-7h2v7zm4 0h-2V7h2v10zm4 0h-2v-4h2v4z\"/>\n",
              "    </g>\n",
              "</svg>\n",
              "  </button>\n",
              "\n",
              "<style>\n",
              "  .colab-df-quickchart {\n",
              "      --bg-color: #E8F0FE;\n",
              "      --fill-color: #1967D2;\n",
              "      --hover-bg-color: #E2EBFA;\n",
              "      --hover-fill-color: #174EA6;\n",
              "      --disabled-fill-color: #AAA;\n",
              "      --disabled-bg-color: #DDD;\n",
              "  }\n",
              "\n",
              "  [theme=dark] .colab-df-quickchart {\n",
              "      --bg-color: #3B4455;\n",
              "      --fill-color: #D2E3FC;\n",
              "      --hover-bg-color: #434B5C;\n",
              "      --hover-fill-color: #FFFFFF;\n",
              "      --disabled-bg-color: #3B4455;\n",
              "      --disabled-fill-color: #666;\n",
              "  }\n",
              "\n",
              "  .colab-df-quickchart {\n",
              "    background-color: var(--bg-color);\n",
              "    border: none;\n",
              "    border-radius: 50%;\n",
              "    cursor: pointer;\n",
              "    display: none;\n",
              "    fill: var(--fill-color);\n",
              "    height: 32px;\n",
              "    padding: 0;\n",
              "    width: 32px;\n",
              "  }\n",
              "\n",
              "  .colab-df-quickchart:hover {\n",
              "    background-color: var(--hover-bg-color);\n",
              "    box-shadow: 0 1px 2px rgba(60, 64, 67, 0.3), 0 1px 3px 1px rgba(60, 64, 67, 0.15);\n",
              "    fill: var(--button-hover-fill-color);\n",
              "  }\n",
              "\n",
              "  .colab-df-quickchart-complete:disabled,\n",
              "  .colab-df-quickchart-complete:disabled:hover {\n",
              "    background-color: var(--disabled-bg-color);\n",
              "    fill: var(--disabled-fill-color);\n",
              "    box-shadow: none;\n",
              "  }\n",
              "\n",
              "  .colab-df-spinner {\n",
              "    border: 2px solid var(--fill-color);\n",
              "    border-color: transparent;\n",
              "    border-bottom-color: var(--fill-color);\n",
              "    animation:\n",
              "      spin 1s steps(1) infinite;\n",
              "  }\n",
              "\n",
              "  @keyframes spin {\n",
              "    0% {\n",
              "      border-color: transparent;\n",
              "      border-bottom-color: var(--fill-color);\n",
              "      border-left-color: var(--fill-color);\n",
              "    }\n",
              "    20% {\n",
              "      border-color: transparent;\n",
              "      border-left-color: var(--fill-color);\n",
              "      border-top-color: var(--fill-color);\n",
              "    }\n",
              "    30% {\n",
              "      border-color: transparent;\n",
              "      border-left-color: var(--fill-color);\n",
              "      border-top-color: var(--fill-color);\n",
              "      border-right-color: var(--fill-color);\n",
              "    }\n",
              "    40% {\n",
              "      border-color: transparent;\n",
              "      border-right-color: var(--fill-color);\n",
              "      border-top-color: var(--fill-color);\n",
              "    }\n",
              "    60% {\n",
              "      border-color: transparent;\n",
              "      border-right-color: var(--fill-color);\n",
              "    }\n",
              "    80% {\n",
              "      border-color: transparent;\n",
              "      border-right-color: var(--fill-color);\n",
              "      border-bottom-color: var(--fill-color);\n",
              "    }\n",
              "    90% {\n",
              "      border-color: transparent;\n",
              "      border-bottom-color: var(--fill-color);\n",
              "    }\n",
              "  }\n",
              "</style>\n",
              "\n",
              "  <script>\n",
              "    async function quickchart(key) {\n",
              "      const quickchartButtonEl =\n",
              "        document.querySelector('#' + key + ' button');\n",
              "      quickchartButtonEl.disabled = true;  // To prevent multiple clicks.\n",
              "      quickchartButtonEl.classList.add('colab-df-spinner');\n",
              "      try {\n",
              "        const charts = await google.colab.kernel.invokeFunction(\n",
              "            'suggestCharts', [key], {});\n",
              "      } catch (error) {\n",
              "        console.error('Error during call to suggestCharts:', error);\n",
              "      }\n",
              "      quickchartButtonEl.classList.remove('colab-df-spinner');\n",
              "      quickchartButtonEl.classList.add('colab-df-quickchart-complete');\n",
              "    }\n",
              "    (() => {\n",
              "      let quickchartButtonEl =\n",
              "        document.querySelector('#df-8530dfa0-7846-4669-a57e-78aefc706cae button');\n",
              "      quickchartButtonEl.style.display =\n",
              "        google.colab.kernel.accessAllowed ? 'block' : 'none';\n",
              "    })();\n",
              "  </script>\n",
              "</div>\n",
              "    </div>\n",
              "  </div>\n"
            ],
            "application/vnd.google.colaboratory.intrinsic+json": {
              "type": "dataframe",
              "variable_name": "size",
              "summary": "{\n  \"name\": \"size\",\n  \"rows\": 8,\n  \"fields\": [\n    {\n      \"column\": \"\\u0420\\u0435\\u0433\\u0438\\u043e\\u043d\",\n      \"properties\": {\n        \"dtype\": \"string\",\n        \"num_unique_values\": 8,\n        \"samples\": [\n          \"\\u0420\\u0435\\u0441\\u043f\\u0443\\u0431\\u043b\\u0438\\u043a\\u0430 \\u041a\\u0430\\u043b\\u043c\\u044b\\u043a\\u0438\\u044f\",\n          \"\\u0412\\u043e\\u043b\\u0433\\u043e\\u0433\\u0440\\u0430\\u0434\\u0441\\u043a\\u0430\\u044f \\u043e\\u0431\\u043b\\u0430\\u0441\\u0442\\u044c\",\n          \"\\u0420\\u0435\\u0441\\u043f\\u0443\\u0431\\u043b\\u0438\\u043a\\u0430 \\u0410\\u0434\\u044b\\u0433\\u0435\\u044f\"\n        ],\n        \"semantic_type\": \"\",\n        \"description\": \"\"\n      }\n    },\n    {\n      \"column\": \"\\u0447\\u0438\\u0441\\u043b\\u0435\\u043d\\u043d\\u043e\\u0441\\u0442\\u044c \\u043d\\u0430\\u0441\\u0435\\u043b\\u0435\\u043d\\u0438\\u044f\",\n      \"properties\": {\n        \"dtype\": \"number\",\n        \"std\": 1996772,\n        \"min\": 265627,\n        \"max\": 5826173,\n        \"num_unique_values\": 8,\n        \"samples\": [\n          265627,\n          2461978,\n          499287\n        ],\n        \"semantic_type\": \"\",\n        \"description\": \"\"\n      }\n    }\n  ]\n}"
            }
          },
          "metadata": {},
          "execution_count": 30
        }
      ]
    },
    {
      "cell_type": "markdown",
      "source": [
        "**Индекс Морана**"
      ],
      "metadata": {
        "id": "MHHKOL-4oXQJ"
      }
    },
    {
      "cell_type": "code",
      "source": [
        "IG2 = Morana_Index(SDM, size['численность населения'])\n",
        "print(f'Индекс Морана : {IG2:.4f}')"
      ],
      "metadata": {
        "colab": {
          "base_uri": "https://localhost:8080/"
        },
        "id": "w4mE0fJBoTcw",
        "outputId": "289b6b97-eb11-45d3-ea3b-4222a5b8ae1a"
      },
      "execution_count": null,
      "outputs": [
        {
          "output_type": "stream",
          "name": "stdout",
          "text": [
            "Индекс Морана : -0.0915\n"
          ]
        }
      ]
    },
    {
      "cell_type": "code",
      "source": [
        "# Ожидаемое значение индекса Морана\n",
        "N = len(size)\n",
        "E = -(1/(N-1))\n",
        "E"
      ],
      "metadata": {
        "colab": {
          "base_uri": "https://localhost:8080/"
        },
        "id": "bF0bHxRgrC1u",
        "outputId": "9edce072-e7a4-4d60-d733-6c50fa748b46"
      },
      "execution_count": null,
      "outputs": [
        {
          "output_type": "execute_result",
          "data": {
            "text/plain": [
              "-0.14285714285714285"
            ]
          },
          "metadata": {},
          "execution_count": 33
        }
      ]
    },
    {
      "cell_type": "markdown",
      "source": [
        "IG > E наблюдается положительная пространственная автокорреляция (значения в соседних территориях являются подобными).Тенденция к тому, что регионы с высокой численностью окружены регионами, где высокая численность (и т д)."
      ],
      "metadata": {
        "id": "kLZaCeBxrG39"
      }
    },
    {
      "cell_type": "markdown",
      "source": [
        "Получим z-статистику, чтобы проверить гипотезу о случайности пространственного распределения регионов\n",
        "\n"
      ],
      "metadata": {
        "id": "gafaAvf1y6YR"
      }
    },
    {
      "cell_type": "code",
      "source": [
        "x = size['численность населения']\n",
        "z = (x - x.mean())/x.std()\n",
        "print(z)"
      ],
      "metadata": {
        "colab": {
          "base_uri": "https://localhost:8080/"
        },
        "id": "xBzVMuq8yof6",
        "outputId": "d16e6858-882e-46ef-b9c4-fa7dcc18d9f5"
      },
      "execution_count": null,
      "outputs": [
        {
          "output_type": "stream",
          "name": "stdout",
          "text": [
            "Регион\n",
            "Республика Адыгея                         -0.791200\n",
            "Республика Калмыкия                       -0.908219\n",
            "Республика Крым                           -0.083125\n",
            "Краснодарский край                         1.876548\n",
            "Астраханская область                      -0.566234\n",
            "Волгоградская область                      0.191732\n",
            "Ростовская область                         1.041380\n",
            "Город федерального значения Севастополь   -0.760883\n",
            "Name: численность населения, dtype: float64\n"
          ]
        }
      ]
    },
    {
      "cell_type": "markdown",
      "source": [
        "**Индекс Гетиса-Орда**"
      ],
      "metadata": {
        "id": "aOVF_K-OohLB"
      }
    },
    {
      "cell_type": "code",
      "source": [
        "GE = Getisa_Index(SDM, size['численность населения'])\n",
        "print(f'Индекс Гетиса-Орда : {GE[0]:.4f}')\n",
        "print(f'Ожидаемое среднее значение автокорреляции : {GE[1]:.4f}')"
      ],
      "metadata": {
        "colab": {
          "base_uri": "https://localhost:8080/"
        },
        "id": "iZvB6jb4ojoc",
        "outputId": "728667d8-21b4-437f-b26b-6227350dc344"
      },
      "execution_count": null,
      "outputs": [
        {
          "output_type": "stream",
          "name": "stdout",
          "text": [
            "Индекс Гетиса-Орда : 0.0126\n",
            "Ожидаемое среднее значение автокорреляции : 0.0179\n"
          ]
        }
      ]
    },
    {
      "cell_type": "markdown",
      "source": [
        "G < E наблюдается пространственная кластеризация объектов с низкими значениями."
      ],
      "metadata": {
        "id": "DXo9Fzjc5iZZ"
      }
    },
    {
      "cell_type": "markdown",
      "source": [
        "**Статистика Джири**"
      ],
      "metadata": {
        "id": "1haVrrZkoj7H"
      }
    },
    {
      "cell_type": "code",
      "source": [
        "C = Giri(SDM, size['численность населения'])\n",
        "print(f'Статистика Джири : {C:.4f}')"
      ],
      "metadata": {
        "colab": {
          "base_uri": "https://localhost:8080/"
        },
        "id": "jn9oXUXaomCH",
        "outputId": "5f8c3e54-e5ee-4429-b44d-fab4fda9aa13"
      },
      "execution_count": null,
      "outputs": [
        {
          "output_type": "stream",
          "name": "stdout",
          "text": [
            "Статистика Джири : 0.2305\n"
          ]
        }
      ]
    },
    {
      "cell_type": "markdown",
      "source": [
        "Возрастающая положительная пространственная автокорреляция."
      ],
      "metadata": {
        "id": "27b6Dal55qMJ"
      }
    },
    {
      "cell_type": "markdown",
      "source": [
        "**Провести пространственную кластеризацию с помощью диаграммы рассеивания Морана.**"
      ],
      "metadata": {
        "id": "yu3xBgW-Gct-"
      }
    },
    {
      "cell_type": "code",
      "source": [
        "def quadrant(z, Wz):\n",
        "    if (z > 0) & (Wz > 0):\n",
        "        return 'HH'\n",
        "    if (z < 0) & (Wz > 0):\n",
        "        return 'LH'\n",
        "    if (z > 0) & (Wz < 0):\n",
        "        return 'Hl'\n",
        "    if (z < 0) & (Wz < 0):\n",
        "        return 'LL'\n",
        "\n",
        "from scipy.stats import zscore\n",
        "def Morans_scatterplot(data, IG):\n",
        "    plt.figure(figsize=(12, 8))\n",
        "    ax = plt.gca()\n",
        "    ax.spines['left'].set_position( ('data', 0))\n",
        "    ax.spines['bottom'].set_position( ('data', 0))\n",
        "    ax.spines['top'].set_visible(False)\n",
        "    ax.spines['right'].set_visible(False)\n",
        "    ax.get_xaxis().set_visible(False)\n",
        "    ax.get_yaxis().set_visible(False)\n",
        "\n",
        "    z = zscore(data, ddof=1)\n",
        "    Wz = SDM.mean(1)\n",
        "\n",
        "    x_IG = np.linspace(z.min(), z.max() , 50)\n",
        "    y_IG = IG * x_IG\n",
        "    x_IG = x_IG[np.where((y_IG > Wz.min()) & (y_IG < Wz.max()))]\n",
        "    y_IG = y_IG[np.where((y_IG > Wz.min()) & (y_IG < Wz.max()))]\n",
        "    plt.plot(x_IG, y_IG, lw=.8, color='black', ls='--', zorder=1)\n",
        "\n",
        "    plt.scatter(z, Wz, color='black', edgecolors='orange', zorder=3)\n",
        "    for i, index in enumerate(SDM.index.tolist()):\n",
        "        t = plt.annotate(index, (z[1], Wz[i]), xytext=(z[i], Wz[i] + 0.008), fontsize=12, ha='center', zorder=2)\n",
        "        t.set_bbox(dict(facecolor='orange', alpha=0.4, edgecolor='black', boxstyle='round'))\n",
        "\n",
        "    plt.text(0.08, Wz.max()+0.01, 'Wz', ha='center', fontsize=14)\n",
        "    plt.text(z.max()+0.2, -0.005, 'z', ha='center', fontsize=14)\n",
        "\n",
        "    results = pd.DataFrame(data).reset_index(names='Регион')\n",
        "    results['Квадрант'] = list(map(lambda i: quadrant(z.values[i], Wz.values[i]), np.arange(data.shape[0])))\n",
        "    return results.set_index(['Квадрант', 'Регион']).sort_index(ascending=False)"
      ],
      "metadata": {
        "id": "zKKoJVysGhau"
      },
      "execution_count": null,
      "outputs": []
    },
    {
      "cell_type": "code",
      "source": [
        "print('Диаграмма рассеяния Морана для данных по зарплатам педагогических работников')\n",
        "results = Morans_scatterplot(salary['средняя зп, руб'], IG1)"
      ],
      "metadata": {
        "colab": {
          "base_uri": "https://localhost:8080/",
          "height": 704
        },
        "id": "XBauXZ-GMywA",
        "outputId": "3bf14ec8-ed69-41ec-a512-3a8b5fa61f95"
      },
      "execution_count": null,
      "outputs": [
        {
          "output_type": "stream",
          "name": "stdout",
          "text": [
            "Диаграмма рассеяния Морана для данных по зарплатам педагогических работников\n"
          ]
        },
        {
          "output_type": "display_data",
          "data": {
            "text/plain": [
              "<Figure size 1200x800 with 1 Axes>"
            ],
            "image/png": "[encoded data removed]"
          },
          "metadata": {}
        }
      ]
    },
    {
      "cell_type": "markdown",
      "source": [
        "1. ядра: Севастополь. В этом городе наблюдается отрицательная автокорреляция: у педагогов относительно высокие средние зарплаты, окружен регионами с относительно низкими зарплатами.\n",
        "2. спутники-противовесы: Краснодарский край, Ростовская область. В этих регионах наблюдается положительная автокорреляция: у педагогов относительно высокие средние зарплаты в данных регионах, окружены регионы территориями с относительно высокими зарплатами.\n",
        "3. периферия: республика Адыгея, Волгоградская область. В этих регионах наблюдается отрицательная автокорреляция: у педагогов относительно низкие средние зарплаты в данных регионах, окружены регионы территориями с относительно высокими зарплатами.\n",
        "4. территории, не испытывающие влияние ни ядер, ни спутнико-противовесов: Астраханская область, республика Калмыкия и Крым. В этих регионах наблодается положительная автокорреляция: у педагогов относительно низкие средние зарплаты в данных регионах, которые окружены регионами также с относительно низкими зарплатами.\n"
      ],
      "metadata": {
        "id": "c4WeDqwJiNhT"
      }
    },
    {
      "cell_type": "code",
      "source": [
        "print('Диаграмма рассеяния Морана для данных по численность постоянного населения')\n",
        "results = Morans_scatterplot(size['численность населения'], IG2)"
      ],
      "metadata": {
        "colab": {
          "base_uri": "https://localhost:8080/",
          "height": 704
        },
        "id": "qDptpPm5MoXF",
        "outputId": "9c3a0c2d-f43e-4c18-a038-75c2b04a0e2f"
      },
      "execution_count": null,
      "outputs": [
        {
          "output_type": "stream",
          "name": "stdout",
          "text": [
            "Диаграмма рассеяния Морана для данных по численность постоянного населения\n"
          ]
        },
        {
          "output_type": "display_data",
          "data": {
            "text/plain": [
              "<Figure size 1200x800 with 1 Axes>"
            ],
            "image/png": "[encoded data removed]"
          },
          "metadata": {}
        }
      ]
    },
    {
      "cell_type": "markdown",
      "source": [
        "1. ядра: таких городов нет.\n",
        "2. спутники-противовесы: Краснодарский край, Ростовская и Волгоградская область. В этих регионах наблюдается положительная автокорреляция: регионы с относительно высокой численностью постоянного населения, окружены территориями с относительно высокой численностью постоянного населения.\n",
        "3. периферия: республика Адыгея. В этих регионах наблюдается отрицательная автокорреляция: регионы с относительно низкой численностью, окружены регионы территориями с относительно высокой численностью.\n",
        "4. территории, не испытывающие влияние ни ядер, ни спутнико-противовесов: Астраханская область, республика Калмыкия и Крым, Севастополь. В этих регионах наблодается положительная автокорреляция: численность постоянного населения относительно низкая, окружены регионами также с относительно низкой численностью."
      ],
      "metadata": {
        "id": "y9lt7V7qlXAu"
      }
    },
    {
      "cell_type": "markdown",
      "source": [
        "**Провести всесторонний анализ и выработать рекомендации.**"
      ],
      "metadata": {
        "id": "XYPC0_8kGeVO"
      }
    },
    {
      "cell_type": "markdown",
      "source": [
        "Пространственный анализ данных средней заработной платы педагогических работников показал наличие значимой пространственной автокорреляции и кластеризации. Высокие и низкие зарплаты имеют тенденцию сосредотачиваться в определенных регионах, образуя четкие кластеры. Несмотря на это, статистика Джири показала, что нет линейной зависимости между значениями зарплат и их пространственным распределением.\n",
        "\n",
        "Такое распределение указывает на возможное влияние региональных факторов и экономических условий на заработные платы педагогических работников. Для более глубокого понимания причин пространственной автокорреляции и кластеризации может потребоваться дальнейшее исследование с учетом социально-экономических и демографических характеристик регионов.\n",
        "\n",
        "\n",
        "\n",
        "\n",
        "\n",
        "\n"
      ],
      "metadata": {
        "id": "Bxkmlb5Muk05"
      }
    },
    {
      "cell_type": "markdown",
      "source": [
        "Пространственный анализ данных численности постоянного населения выявил значительную пространственную автокорреляцию и кластеризацию. Высокая и низкая численность населения имеют тенденцию сосредотачиваться в определенных регионах, образуя четкие кластеры. Это может указывать на влияние различных социально-экономических и географических факторов, таких как доступность ресурсов, инфраструктуры и экономические условия, на численность населения.\n",
        "\n",
        "Отсутствие регионов, играющих роль ядер, указывает на равномерное распределение крупных и малых населенных пунктов без явно выделяющихся центров."
      ],
      "metadata": {
        "id": "DdvIMSLRvV5o"
      }
    }
  ]
}